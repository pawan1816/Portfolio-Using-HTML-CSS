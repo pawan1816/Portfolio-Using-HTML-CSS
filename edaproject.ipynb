{
  "cells": [
    {
      "cell_type": "markdown",
      "metadata": {
        "id": "view-in-github",
        "colab_type": "text"
      },
      "source": [
        "<a href=\"https://colab.research.google.com/github/pawan1816/1stportfolipo.github.io/blob/main/edaproject.ipynb\" target=\"_parent\"><img src=\"https://colab.research.google.com/assets/colab-badge.svg\" alt=\"Open In Colab\"/></a>"
      ]
    },
    {
      "cell_type": "code",
      "source": [],
      "metadata": {
        "id": "WksWVLly5Jf8"
      },
      "id": "WksWVLly5Jf8",
      "execution_count": null,
      "outputs": []
    },
    {
      "cell_type": "code",
      "source": [
        "from google.colab import drive\n",
        "drive.mount('/content/drive')"
      ],
      "metadata": {
        "id": "oeVjLLEb7jvI"
      },
      "id": "oeVjLLEb7jvI",
      "execution_count": null,
      "outputs": []
    },
    {
      "cell_type": "code",
      "execution_count": null,
      "id": "df268da1",
      "metadata": {
        "id": "df268da1"
      },
      "outputs": [],
      "source": [
        "import pandas as pd\n",
        "import numpy as np\n",
        "import matplotlib.pyplot as plt\n",
        "import scipy.stats as sps\n",
        "import os\n",
        "import seaborn as sns\n",
        "from scipy import stats\n",
        "import warnings"
      ]
    },
    {
      "cell_type": "code",
      "execution_count": null,
      "id": "ab88fb02",
      "metadata": {
        "id": "ab88fb02"
      },
      "outputs": [],
      "source": [
        "rd=pd.read_csv(\"coursea_data.csv\")"
      ]
    },
    {
      "cell_type": "code",
      "execution_count": null,
      "id": "fa7fc2a9",
      "metadata": {
        "id": "fa7fc2a9",
        "outputId": "eed5f3f7-513c-40b6-9be5-4417b911ef46"
      },
      "outputs": [
        {
          "data": {
            "text/html": [
              "<div>\n",
              "<style scoped>\n",
              "    .dataframe tbody tr th:only-of-type {\n",
              "        vertical-align: middle;\n",
              "    }\n",
              "\n",
              "    .dataframe tbody tr th {\n",
              "        vertical-align: top;\n",
              "    }\n",
              "\n",
              "    .dataframe thead th {\n",
              "        text-align: right;\n",
              "    }\n",
              "</style>\n",
              "<table border=\"1\" class=\"dataframe\">\n",
              "  <thead>\n",
              "    <tr style=\"text-align: right;\">\n",
              "      <th></th>\n",
              "      <th>Unnamed: 0</th>\n",
              "      <th>course_title</th>\n",
              "      <th>course_organization</th>\n",
              "      <th>course_Certificate_type</th>\n",
              "      <th>course_rating</th>\n",
              "      <th>course_difficulty</th>\n",
              "      <th>course_students_enrolled</th>\n",
              "    </tr>\n",
              "  </thead>\n",
              "  <tbody>\n",
              "    <tr>\n",
              "      <th>0</th>\n",
              "      <td>134</td>\n",
              "      <td>(ISC)² Systems Security Certified Practitioner...</td>\n",
              "      <td>(ISC)²</td>\n",
              "      <td>SPECIALIZATION</td>\n",
              "      <td>4.7</td>\n",
              "      <td>Beginner</td>\n",
              "      <td>5.3k</td>\n",
              "    </tr>\n",
              "    <tr>\n",
              "      <th>1</th>\n",
              "      <td>743</td>\n",
              "      <td>A Crash Course in Causality:  Inferring Causal...</td>\n",
              "      <td>University of Pennsylvania</td>\n",
              "      <td>COURSE</td>\n",
              "      <td>4.7</td>\n",
              "      <td>Intermediate</td>\n",
              "      <td>17k</td>\n",
              "    </tr>\n",
              "    <tr>\n",
              "      <th>2</th>\n",
              "      <td>874</td>\n",
              "      <td>A Crash Course in Data Science</td>\n",
              "      <td>Johns Hopkins University</td>\n",
              "      <td>COURSE</td>\n",
              "      <td>4.5</td>\n",
              "      <td>Mixed</td>\n",
              "      <td>130k</td>\n",
              "    </tr>\n",
              "    <tr>\n",
              "      <th>3</th>\n",
              "      <td>413</td>\n",
              "      <td>A Law Student's Toolkit</td>\n",
              "      <td>Yale University</td>\n",
              "      <td>COURSE</td>\n",
              "      <td>4.7</td>\n",
              "      <td>Mixed</td>\n",
              "      <td>91k</td>\n",
              "    </tr>\n",
              "    <tr>\n",
              "      <th>4</th>\n",
              "      <td>635</td>\n",
              "      <td>A Life of Happiness and Fulfillment</td>\n",
              "      <td>Indian School of Business</td>\n",
              "      <td>COURSE</td>\n",
              "      <td>4.8</td>\n",
              "      <td>Mixed</td>\n",
              "      <td>320k</td>\n",
              "    </tr>\n",
              "    <tr>\n",
              "      <th>...</th>\n",
              "      <td>...</td>\n",
              "      <td>...</td>\n",
              "      <td>...</td>\n",
              "      <td>...</td>\n",
              "      <td>...</td>\n",
              "      <td>...</td>\n",
              "      <td>...</td>\n",
              "    </tr>\n",
              "    <tr>\n",
              "      <th>886</th>\n",
              "      <td>236</td>\n",
              "      <td>Программирование на Python</td>\n",
              "      <td>Mail.Ru Group</td>\n",
              "      <td>SPECIALIZATION</td>\n",
              "      <td>4.5</td>\n",
              "      <td>Intermediate</td>\n",
              "      <td>52k</td>\n",
              "    </tr>\n",
              "    <tr>\n",
              "      <th>887</th>\n",
              "      <td>883</td>\n",
              "      <td>Психолингвистика (Psycholinguistics)</td>\n",
              "      <td>Saint Petersburg State University</td>\n",
              "      <td>COURSE</td>\n",
              "      <td>4.8</td>\n",
              "      <td>Mixed</td>\n",
              "      <td>21k</td>\n",
              "    </tr>\n",
              "    <tr>\n",
              "      <th>888</th>\n",
              "      <td>545</td>\n",
              "      <td>Разработка интерфейсов: вёрстка и JavaScript</td>\n",
              "      <td>E-Learning Development Fund</td>\n",
              "      <td>SPECIALIZATION</td>\n",
              "      <td>4.5</td>\n",
              "      <td>Intermediate</td>\n",
              "      <td>30k</td>\n",
              "    </tr>\n",
              "    <tr>\n",
              "      <th>889</th>\n",
              "      <td>875</td>\n",
              "      <td>Русский как иностранный</td>\n",
              "      <td>Saint Petersburg State University</td>\n",
              "      <td>SPECIALIZATION</td>\n",
              "      <td>4.6</td>\n",
              "      <td>Intermediate</td>\n",
              "      <td>9.8k</td>\n",
              "    </tr>\n",
              "    <tr>\n",
              "      <th>890</th>\n",
              "      <td>163</td>\n",
              "      <td>Финансовые инструменты для частного инвестора</td>\n",
              "      <td>National Research University Higher School of ...</td>\n",
              "      <td>SPECIALIZATION</td>\n",
              "      <td>4.7</td>\n",
              "      <td>Beginner</td>\n",
              "      <td>38k</td>\n",
              "    </tr>\n",
              "  </tbody>\n",
              "</table>\n",
              "<p>891 rows × 7 columns</p>\n",
              "</div>"
            ],
            "text/plain": [
              "     Unnamed: 0                                       course_title  \\\n",
              "0           134  (ISC)² Systems Security Certified Practitioner...   \n",
              "1           743  A Crash Course in Causality:  Inferring Causal...   \n",
              "2           874                     A Crash Course in Data Science   \n",
              "3           413                            A Law Student's Toolkit   \n",
              "4           635                A Life of Happiness and Fulfillment   \n",
              "..          ...                                                ...   \n",
              "886         236                         Программирование на Python   \n",
              "887         883               Психолингвистика (Psycholinguistics)   \n",
              "888         545       Разработка интерфейсов: вёрстка и JavaScript   \n",
              "889         875                            Русский как иностранный   \n",
              "890         163      Финансовые инструменты для частного инвестора   \n",
              "\n",
              "                                   course_organization  \\\n",
              "0                                               (ISC)²   \n",
              "1                           University of Pennsylvania   \n",
              "2                             Johns Hopkins University   \n",
              "3                                      Yale University   \n",
              "4                            Indian School of Business   \n",
              "..                                                 ...   \n",
              "886                                      Mail.Ru Group   \n",
              "887                  Saint Petersburg State University   \n",
              "888                        E-Learning Development Fund   \n",
              "889                  Saint Petersburg State University   \n",
              "890  National Research University Higher School of ...   \n",
              "\n",
              "    course_Certificate_type  course_rating course_difficulty  \\\n",
              "0            SPECIALIZATION            4.7          Beginner   \n",
              "1                    COURSE            4.7      Intermediate   \n",
              "2                    COURSE            4.5             Mixed   \n",
              "3                    COURSE            4.7             Mixed   \n",
              "4                    COURSE            4.8             Mixed   \n",
              "..                      ...            ...               ...   \n",
              "886          SPECIALIZATION            4.5      Intermediate   \n",
              "887                  COURSE            4.8             Mixed   \n",
              "888          SPECIALIZATION            4.5      Intermediate   \n",
              "889          SPECIALIZATION            4.6      Intermediate   \n",
              "890          SPECIALIZATION            4.7          Beginner   \n",
              "\n",
              "    course_students_enrolled  \n",
              "0                       5.3k  \n",
              "1                        17k  \n",
              "2                       130k  \n",
              "3                        91k  \n",
              "4                       320k  \n",
              "..                       ...  \n",
              "886                      52k  \n",
              "887                      21k  \n",
              "888                      30k  \n",
              "889                     9.8k  \n",
              "890                      38k  \n",
              "\n",
              "[891 rows x 7 columns]"
            ]
          },
          "execution_count": 5,
          "metadata": {},
          "output_type": "execute_result"
        }
      ],
      "source": [
        "rd"
      ]
    },
    {
      "cell_type": "code",
      "execution_count": null,
      "id": "eaaf9cae",
      "metadata": {
        "id": "eaaf9cae",
        "outputId": "990dc484-c330-4a4d-dec4-7a9f7693dc67"
      },
      "outputs": [
        {
          "data": {
            "text/html": [
              "<div>\n",
              "<style scoped>\n",
              "    .dataframe tbody tr th:only-of-type {\n",
              "        vertical-align: middle;\n",
              "    }\n",
              "\n",
              "    .dataframe tbody tr th {\n",
              "        vertical-align: top;\n",
              "    }\n",
              "\n",
              "    .dataframe thead th {\n",
              "        text-align: right;\n",
              "    }\n",
              "</style>\n",
              "<table border=\"1\" class=\"dataframe\">\n",
              "  <thead>\n",
              "    <tr style=\"text-align: right;\">\n",
              "      <th></th>\n",
              "      <th>Unnamed: 0</th>\n",
              "      <th>course_title</th>\n",
              "      <th>course_organization</th>\n",
              "      <th>course_Certificate_type</th>\n",
              "      <th>course_rating</th>\n",
              "      <th>course_difficulty</th>\n",
              "      <th>course_students_enrolled</th>\n",
              "    </tr>\n",
              "  </thead>\n",
              "  <tbody>\n",
              "    <tr>\n",
              "      <th>0</th>\n",
              "      <td>134</td>\n",
              "      <td>(ISC)² Systems Security Certified Practitioner...</td>\n",
              "      <td>(ISC)²</td>\n",
              "      <td>SPECIALIZATION</td>\n",
              "      <td>4.7</td>\n",
              "      <td>Beginner</td>\n",
              "      <td>5.3k</td>\n",
              "    </tr>\n",
              "    <tr>\n",
              "      <th>1</th>\n",
              "      <td>743</td>\n",
              "      <td>A Crash Course in Causality:  Inferring Causal...</td>\n",
              "      <td>University of Pennsylvania</td>\n",
              "      <td>COURSE</td>\n",
              "      <td>4.7</td>\n",
              "      <td>Intermediate</td>\n",
              "      <td>17k</td>\n",
              "    </tr>\n",
              "    <tr>\n",
              "      <th>2</th>\n",
              "      <td>874</td>\n",
              "      <td>A Crash Course in Data Science</td>\n",
              "      <td>Johns Hopkins University</td>\n",
              "      <td>COURSE</td>\n",
              "      <td>4.5</td>\n",
              "      <td>Mixed</td>\n",
              "      <td>130k</td>\n",
              "    </tr>\n",
              "    <tr>\n",
              "      <th>3</th>\n",
              "      <td>413</td>\n",
              "      <td>A Law Student's Toolkit</td>\n",
              "      <td>Yale University</td>\n",
              "      <td>COURSE</td>\n",
              "      <td>4.7</td>\n",
              "      <td>Mixed</td>\n",
              "      <td>91k</td>\n",
              "    </tr>\n",
              "    <tr>\n",
              "      <th>4</th>\n",
              "      <td>635</td>\n",
              "      <td>A Life of Happiness and Fulfillment</td>\n",
              "      <td>Indian School of Business</td>\n",
              "      <td>COURSE</td>\n",
              "      <td>4.8</td>\n",
              "      <td>Mixed</td>\n",
              "      <td>320k</td>\n",
              "    </tr>\n",
              "  </tbody>\n",
              "</table>\n",
              "</div>"
            ],
            "text/plain": [
              "   Unnamed: 0                                       course_title  \\\n",
              "0         134  (ISC)² Systems Security Certified Practitioner...   \n",
              "1         743  A Crash Course in Causality:  Inferring Causal...   \n",
              "2         874                     A Crash Course in Data Science   \n",
              "3         413                            A Law Student's Toolkit   \n",
              "4         635                A Life of Happiness and Fulfillment   \n",
              "\n",
              "          course_organization course_Certificate_type  course_rating  \\\n",
              "0                      (ISC)²          SPECIALIZATION            4.7   \n",
              "1  University of Pennsylvania                  COURSE            4.7   \n",
              "2    Johns Hopkins University                  COURSE            4.5   \n",
              "3             Yale University                  COURSE            4.7   \n",
              "4   Indian School of Business                  COURSE            4.8   \n",
              "\n",
              "  course_difficulty course_students_enrolled  \n",
              "0          Beginner                     5.3k  \n",
              "1      Intermediate                      17k  \n",
              "2             Mixed                     130k  \n",
              "3             Mixed                      91k  \n",
              "4             Mixed                     320k  "
            ]
          },
          "execution_count": 6,
          "metadata": {},
          "output_type": "execute_result"
        }
      ],
      "source": [
        "rd.head()"
      ]
    },
    {
      "cell_type": "code",
      "execution_count": null,
      "id": "8740cd65",
      "metadata": {
        "scrolled": true,
        "id": "8740cd65",
        "outputId": "d23170a0-a376-4b6f-a6f5-94c61036a38f"
      },
      "outputs": [
        {
          "data": {
            "text/plain": [
              "Unnamed: 0                  0\n",
              "course_title                0\n",
              "course_organization         0\n",
              "course_Certificate_type     0\n",
              "course_rating               0\n",
              "course_difficulty           0\n",
              "course_students_enrolled    0\n",
              "dtype: int64"
            ]
          },
          "execution_count": 7,
          "metadata": {},
          "output_type": "execute_result"
        }
      ],
      "source": [
        "rd.isnull().sum()"
      ]
    },
    {
      "cell_type": "code",
      "execution_count": null,
      "id": "ee0ab25f",
      "metadata": {
        "id": "ee0ab25f",
        "outputId": "d64a1385-26ab-49f1-dbcb-380da57cfbd2"
      },
      "outputs": [
        {
          "data": {
            "text/html": [
              "<div>\n",
              "<style scoped>\n",
              "    .dataframe tbody tr th:only-of-type {\n",
              "        vertical-align: middle;\n",
              "    }\n",
              "\n",
              "    .dataframe tbody tr th {\n",
              "        vertical-align: top;\n",
              "    }\n",
              "\n",
              "    .dataframe thead th {\n",
              "        text-align: right;\n",
              "    }\n",
              "</style>\n",
              "<table border=\"1\" class=\"dataframe\">\n",
              "  <thead>\n",
              "    <tr style=\"text-align: right;\">\n",
              "      <th></th>\n",
              "      <th>Unnamed: 0</th>\n",
              "      <th>course_rating</th>\n",
              "    </tr>\n",
              "  </thead>\n",
              "  <tbody>\n",
              "    <tr>\n",
              "      <th>count</th>\n",
              "      <td>891.000000</td>\n",
              "      <td>891.000000</td>\n",
              "    </tr>\n",
              "    <tr>\n",
              "      <th>mean</th>\n",
              "      <td>445.000000</td>\n",
              "      <td>4.677329</td>\n",
              "    </tr>\n",
              "    <tr>\n",
              "      <th>std</th>\n",
              "      <td>257.353842</td>\n",
              "      <td>0.162225</td>\n",
              "    </tr>\n",
              "    <tr>\n",
              "      <th>min</th>\n",
              "      <td>0.000000</td>\n",
              "      <td>3.300000</td>\n",
              "    </tr>\n",
              "    <tr>\n",
              "      <th>25%</th>\n",
              "      <td>222.500000</td>\n",
              "      <td>4.600000</td>\n",
              "    </tr>\n",
              "    <tr>\n",
              "      <th>50%</th>\n",
              "      <td>445.000000</td>\n",
              "      <td>4.700000</td>\n",
              "    </tr>\n",
              "    <tr>\n",
              "      <th>75%</th>\n",
              "      <td>667.500000</td>\n",
              "      <td>4.800000</td>\n",
              "    </tr>\n",
              "    <tr>\n",
              "      <th>max</th>\n",
              "      <td>890.000000</td>\n",
              "      <td>5.000000</td>\n",
              "    </tr>\n",
              "  </tbody>\n",
              "</table>\n",
              "</div>"
            ],
            "text/plain": [
              "       Unnamed: 0  course_rating\n",
              "count  891.000000     891.000000\n",
              "mean   445.000000       4.677329\n",
              "std    257.353842       0.162225\n",
              "min      0.000000       3.300000\n",
              "25%    222.500000       4.600000\n",
              "50%    445.000000       4.700000\n",
              "75%    667.500000       4.800000\n",
              "max    890.000000       5.000000"
            ]
          },
          "execution_count": 8,
          "metadata": {},
          "output_type": "execute_result"
        }
      ],
      "source": [
        "rd.describe()"
      ]
    },
    {
      "cell_type": "code",
      "execution_count": null,
      "id": "4dd0154e",
      "metadata": {
        "id": "4dd0154e",
        "outputId": "b63cd8b2-1ad6-4da0-af30-9c4904b6563a"
      },
      "outputs": [
        {
          "data": {
            "text/html": [
              "<div>\n",
              "<style scoped>\n",
              "    .dataframe tbody tr th:only-of-type {\n",
              "        vertical-align: middle;\n",
              "    }\n",
              "\n",
              "    .dataframe tbody tr th {\n",
              "        vertical-align: top;\n",
              "    }\n",
              "\n",
              "    .dataframe thead th {\n",
              "        text-align: right;\n",
              "    }\n",
              "</style>\n",
              "<table border=\"1\" class=\"dataframe\">\n",
              "  <thead>\n",
              "    <tr style=\"text-align: right;\">\n",
              "      <th></th>\n",
              "      <th>count</th>\n",
              "      <th>unique</th>\n",
              "      <th>top</th>\n",
              "      <th>freq</th>\n",
              "    </tr>\n",
              "  </thead>\n",
              "  <tbody>\n",
              "    <tr>\n",
              "      <th>course_title</th>\n",
              "      <td>891</td>\n",
              "      <td>888</td>\n",
              "      <td>Developing Your Musicianship</td>\n",
              "      <td>2</td>\n",
              "    </tr>\n",
              "    <tr>\n",
              "      <th>course_organization</th>\n",
              "      <td>891</td>\n",
              "      <td>154</td>\n",
              "      <td>University of Pennsylvania</td>\n",
              "      <td>59</td>\n",
              "    </tr>\n",
              "    <tr>\n",
              "      <th>course_Certificate_type</th>\n",
              "      <td>891</td>\n",
              "      <td>3</td>\n",
              "      <td>COURSE</td>\n",
              "      <td>582</td>\n",
              "    </tr>\n",
              "    <tr>\n",
              "      <th>course_difficulty</th>\n",
              "      <td>891</td>\n",
              "      <td>4</td>\n",
              "      <td>Beginner</td>\n",
              "      <td>487</td>\n",
              "    </tr>\n",
              "    <tr>\n",
              "      <th>course_students_enrolled</th>\n",
              "      <td>891</td>\n",
              "      <td>205</td>\n",
              "      <td>120k</td>\n",
              "      <td>22</td>\n",
              "    </tr>\n",
              "  </tbody>\n",
              "</table>\n",
              "</div>"
            ],
            "text/plain": [
              "                         count unique                           top freq\n",
              "course_title               891    888  Developing Your Musicianship    2\n",
              "course_organization        891    154    University of Pennsylvania   59\n",
              "course_Certificate_type    891      3                        COURSE  582\n",
              "course_difficulty          891      4                      Beginner  487\n",
              "course_students_enrolled   891    205                          120k   22"
            ]
          },
          "execution_count": 9,
          "metadata": {},
          "output_type": "execute_result"
        }
      ],
      "source": [
        "rd.describe(include=['object']).T"
      ]
    },
    {
      "cell_type": "code",
      "execution_count": null,
      "id": "44633871",
      "metadata": {
        "id": "44633871",
        "outputId": "8aa103bd-27da-4960-fdc7-2337cb83926e"
      },
      "outputs": [
        {
          "data": {
            "text/plain": [
              "Text(0.5, 1.0, '\\ncourse Rating Distribution\\n')"
            ]
          },
          "execution_count": 10,
          "metadata": {},
          "output_type": "execute_result"
        },
        {
          "data": {
            "image/png": "[encoded data removed]",
            "text/plain": [
              "<Figure size 720x720 with 1 Axes>"
            ]
          },
          "metadata": {},
          "output_type": "display_data"
        }
      ],
      "source": [
        "sns.set(rc={'figure.figsize':(10,10)})\n",
        "ax = sns.boxenplot( y=\"course_rating\", data=rd,\n",
        "                   showfliers=False,color='orange')\n",
        "ax = sns.stripplot( y=\"course_rating\", data=rd,\n",
        "                   size=4, color=\"maroon\",alpha=0.2)\n",
        "ax.axes.set_title(\"\\ncourse Rating Distribution\\n\",fontsize=30)"
      ]
    },
    {
      "cell_type": "code",
      "execution_count": null,
      "id": "a9fb894c",
      "metadata": {
        "id": "a9fb894c"
      },
      "outputs": [],
      "source": [
        "import os\n",
        "warnings.filterwarnings('ignore')"
      ]
    },
    {
      "cell_type": "code",
      "execution_count": null,
      "id": "3d89e7d4",
      "metadata": {
        "id": "3d89e7d4",
        "outputId": "1804793e-0de6-450e-f46f-1a1cec50e102"
      },
      "outputs": [
        {
          "data": {
            "text/plain": [
              "Text(0.5, 1.0, '\\ncourse Rating Distribution\\n')"
            ]
          },
          "execution_count": 12,
          "metadata": {},
          "output_type": "execute_result"
        },
        {
          "data": {
            "image/png": "[encoded data removed]",
            "text/plain": [
              "<Figure size 720x360 with 1 Axes>"
            ]
          },
          "metadata": {},
          "output_type": "display_data"
        }
      ],
      "source": [
        "sns.set(rc={'figure.figsize':(10,5)})\n",
        "p=sns.distplot(rd['course_rating'],color='darkcyan',fit_kws={\"color\":\"red\"},fit=stats.gamma, label=\"label 1\")\n",
        "p.axes.set_title(\"\\ncourse Rating Distribution\\n\",fontsize=30)"
      ]
    },
    {
      "cell_type": "code",
      "execution_count": null,
      "id": "aa4ca875",
      "metadata": {
        "id": "aa4ca875"
      },
      "outputs": [],
      "source": []
    },
    {
      "cell_type": "code",
      "execution_count": null,
      "id": "50af5d30",
      "metadata": {
        "id": "50af5d30"
      },
      "outputs": [],
      "source": []
    }
  ],
  "metadata": {
    "kernelspec": {
      "display_name": "Python 3 (ipykernel)",
      "language": "python",
      "name": "python3"
    },
    "language_info": {
      "codemirror_mode": {
        "name": "ipython",
        "version": 3
      },
      "file_extension": ".py",
      "mimetype": "text/x-python",
      "name": "python",
      "nbconvert_exporter": "python",
      "pygments_lexer": "ipython3",
      "version": "3.9.7"
    },
    "colab": {
      "provenance": [],
      "include_colab_link": true
    }
  },
  "nbformat": 4,
  "nbformat_minor": 5
}